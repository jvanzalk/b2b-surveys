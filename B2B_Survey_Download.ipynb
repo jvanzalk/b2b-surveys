{
 "cells": [
  {
   "cell_type": "markdown",
   "metadata": {},
   "source": [
    "## Import keys, krates, and survey ids"
   ]
  },
  {
   "cell_type": "code",
   "execution_count": 1,
   "metadata": {},
   "outputs": [],
   "source": [
    "import requests\n",
    "import zipfile\n",
    "import json\n",
    "import io, os\n",
    "import sys\n",
    "import re\n",
    "from config import apiToken, surveyId\n",
    "fileFormat = 'csv'"
   ]
  },
  {
   "cell_type": "markdown",
   "metadata": {},
   "source": [
    "## Export Survey as CSV"
   ]
  },
  {
   "cell_type": "code",
   "execution_count": 2,
   "metadata": {
    "scrolled": true
   },
   "outputs": [
    {
     "name": "stdout",
     "output_type": "stream",
     "text": [
      "{\"result\":{\"progressId\":\"ES_5uPcOn0L4dA7Vpb\",\"percentComplete\":0.0,\"status\":\"inProgress\"},\"meta\":{\"requestId\":\"0f4e3d7d-edf1-4409-acd3-a9e508d131a0\",\"httpStatus\":\"200 - OK\"}}\n",
      "progressStatus= inProgress\n",
      "Download is 0.0 complete\n",
      "progressStatus= inProgress\n",
      "Download is 100.0 complete\n",
      "Complete\n"
     ]
    }
   ],
   "source": [
    "def exportSurvey(apiToken,surveyId,fileFormat):\n",
    "\n",
    "    # Setting static parameters\n",
    "    requestCheckProgress = 0.0\n",
    "    progressStatus = \"inProgress\"\n",
    "    baseUrl = \"https://sepa.co1.qualtrics.com/API/v3/surveys/{0}/export-responses/\".format(surveyId)\n",
    "    headers = {\n",
    "    \"content-type\": \"application/json\",\n",
    "    \"x-api-token\": apiToken,\n",
    "    }\n",
    "\n",
    "    # Step 1: Creating Data Export\n",
    "    downloadRequestUrl = baseUrl\n",
    "    downloadRequestPayload = '{\"format\":\"' + fileFormat + '\"}'\n",
    "    downloadRequestResponse = requests.request(\"POST\", downloadRequestUrl, data=downloadRequestPayload, headers=headers)\n",
    "    progressId = downloadRequestResponse.json()[\"result\"][\"progressId\"]\n",
    "    print(downloadRequestResponse.text)\n",
    "\n",
    "    # Step 2: Checking on Data Export Progress and waiting until export is ready\n",
    "    while progressStatus != \"complete\" and progressStatus != \"failed\":\n",
    "        print (\"progressStatus=\", progressStatus)\n",
    "        requestCheckUrl = baseUrl + progressId\n",
    "        requestCheckResponse = requests.request(\"GET\", requestCheckUrl, headers=headers)\n",
    "        requestCheckProgress = requestCheckResponse.json()[\"result\"][\"percentComplete\"]\n",
    "        print(\"Download is \" + str(requestCheckProgress) + \" complete\")\n",
    "        progressStatus = requestCheckResponse.json()[\"result\"][\"status\"]\n",
    "\n",
    "    #step 2.1: Check for error\n",
    "    if progressStatus is \"failed\":\n",
    "        raise Exception(\"export failed\")\n",
    "\n",
    "    fileId = requestCheckResponse.json()[\"result\"][\"fileId\"]\n",
    "\n",
    "    # Step 3: Downloading file\n",
    "    requestDownloadUrl = baseUrl + fileId + '/file'\n",
    "    requestDownload = requests.request(\"GET\", requestDownloadUrl, headers=headers, stream=True)\n",
    "\n",
    "    # Step 4: Unzipping the file\n",
    "    zipfile.ZipFile(io.BytesIO(requestDownload.content)).extractall(\"MyQualtricsDownload\")\n",
    "    print('Complete')\n",
    "\n",
    "\n",
    "def main():\n",
    "\n",
    "    exportSurvey(apiToken, surveyId,fileFormat)\n",
    " \n",
    "if __name__== \"__main__\":\n",
    "    main()"
   ]
  }
 ],
 "metadata": {
  "kernelspec": {
   "display_name": "Python 3",
   "language": "python",
   "name": "python3"
  },
  "language_info": {
   "codemirror_mode": {
    "name": "ipython",
    "version": 3
   },
   "file_extension": ".py",
   "mimetype": "text/x-python",
   "name": "python",
   "nbconvert_exporter": "python",
   "pygments_lexer": "ipython3",
   "version": "3.7.4"
  }
 },
 "nbformat": 4,
 "nbformat_minor": 2
}
